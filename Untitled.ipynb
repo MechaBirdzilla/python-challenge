{
 "cells": [
  {
   "cell_type": "code",
   "execution_count": 84,
   "id": "bfdcc2d6",
   "metadata": {},
   "outputs": [],
   "source": [
    "import csv"
   ]
  },
  {
   "cell_type": "code",
   "execution_count": 85,
   "id": "60e327a6",
   "metadata": {},
   "outputs": [],
   "source": [
    "budgetdata_csv = \"./Resources/budget_data.csv\""
   ]
  },
  {
   "cell_type": "code",
   "execution_count": 86,
   "id": "02386f8b",
   "metadata": {
    "scrolled": true
   },
   "outputs": [
    {
     "name": "stdout",
     "output_type": "stream",
     "text": [
      "('Aug-16', 1862002)\n",
      "Financial Analysis\n",
      "---------------------------------------\n",
      "Total Months: $86\n",
      "Total: $22564198\n",
      "Average Change: $-8311.11\n",
      "Greatest Increase in Profits: Aug-16 ($1862002)\n",
      "Greatest Decrease in Profits: Feb-14 ($-1825558)\n"
     ]
    }
   ],
   "source": [
    "with open(budgetdata_csv,\"r\") as csvfile:\n",
    "    csvreader = csv.reader(csvfile, delimiter=\",\")\n",
    "    \n",
    "    header = next(csvreader)\n",
    "    months = 0\n",
    "    total = 0\n",
    "    changes = []\n",
    "    previous_profit = None\n",
    "    min_profit = None\n",
    "    max_profit = None\n",
    "    \n",
    "    for row in csvreader:\n",
    "        months = months + 1\n",
    "        total = total + int(row[1])\n",
    "        if previous_profit != None:\n",
    "            difference = int(row[1]) - previous_profit\n",
    "            changes.append(difference)\n",
    "            if min_profit == None or difference < min_profit[1]:\n",
    "                min_profit = (row[0], difference)\n",
    "                \n",
    "                \n",
    "            if max_profit == None or difference > max_profit[1]:\n",
    "                max_profit = (row[0], difference)\n",
    "             \n",
    "            \n",
    "        previous_profit = int(row[1])\n",
    "       \n",
    "   # print(months)\n",
    "   # print(total)\n",
    "   # print(sum(changes) / (len(changes)))\n",
    "   # print(max(changes))\n",
    "   # print(min(changes))\n",
    "print(max_profit)\n",
    "print(\"Financial Analysis\")\n",
    "print(\"---------------------------------------\")\n",
    "print(\"Total Months: $\" + str(months))\n",
    "print(\"Total: $\" + str(total))\n",
    "print(\"Average Change: $\" + str(round(sum(changes) / len(changes),2)))\n",
    "print(\"Greatest Increase in Profits: \" + max_profit[0] + \" ($\" + str(max_profit[1]) + \")\")\n",
    "print(\"Greatest Decrease in Profits: \" + min_profit[0] + \" ($\" + str(min_profit[1]) + \")\") \n",
    "\n",
    "        "
   ]
  },
  {
   "cell_type": "code",
   "execution_count": null,
   "id": "95db2bd2",
   "metadata": {
    "scrolled": true
   },
   "outputs": [],
   "source": []
  },
  {
   "cell_type": "code",
   "execution_count": null,
   "id": "328ec141",
   "metadata": {},
   "outputs": [],
   "source": []
  },
  {
   "cell_type": "code",
   "execution_count": null,
   "id": "54366508",
   "metadata": {},
   "outputs": [],
   "source": []
  }
 ],
 "metadata": {
  "kernelspec": {
   "display_name": "Python 3 (ipykernel)",
   "language": "python",
   "name": "python3"
  },
  "language_info": {
   "codemirror_mode": {
    "name": "ipython",
    "version": 3
   },
   "file_extension": ".py",
   "mimetype": "text/x-python",
   "name": "python",
   "nbconvert_exporter": "python",
   "pygments_lexer": "ipython3",
   "version": "3.9.12"
  }
 },
 "nbformat": 4,
 "nbformat_minor": 5
}
